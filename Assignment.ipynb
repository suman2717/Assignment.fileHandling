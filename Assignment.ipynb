{
  "nbformat": 4,
  "nbformat_minor": 0,
  "metadata": {
    "colab": {
      "provenance": []
    },
    "kernelspec": {
      "name": "python3",
      "display_name": "Python 3"
    },
    "language_info": {
      "name": "python"
    }
  },
  "cells": [
    {
      "cell_type": "code",
      "execution_count": 14,
      "metadata": {
        "id": "DhbY2Ph0HrOv"
      },
      "outputs": [],
      "source": [
        "with open('file.txt', 'w') as file:\n",
        "  file.write(\"Hello ,I am Suman.\\n\")\n",
        "  file.write(\"I am learning python now.\\n\")\n",
        "  file.write(\"I also want to learn basics of DevOps.\\n\")\n"
      ]
    },
    {
      "cell_type": "code",
      "source": [
        "with open('file.txt', 'r') as file:\n",
        "    content = file.read()\n",
        "    print(content)\n"
      ],
      "metadata": {
        "colab": {
          "base_uri": "https://localhost:8080/"
        },
        "id": "zQoC8a3_H4NO",
        "outputId": "42c81443-ce4a-4c63-e7f5-5115f5b67103"
      },
      "execution_count": 15,
      "outputs": [
        {
          "output_type": "stream",
          "name": "stdout",
          "text": [
            "Hello ,I am Suman.\n",
            "I am learning python now.\n",
            "I also want to learn basics of DevOps.\n",
            "\n"
          ]
        }
      ]
    },
    {
      "cell_type": "code",
      "source": [
        "with open('file.txt', 'a') as file:\n",
        "    file.write(\"I HAVE COMPLETED GRADUATION.\\n\")\n"
      ],
      "metadata": {
        "id": "tZigHs2-IDIf"
      },
      "execution_count": 16,
      "outputs": []
    },
    {
      "cell_type": "code",
      "source": [
        "with open('file.txt', 'r') as file:\n",
        "    for line in file:\n",
        "        print(line.strip())\n"
      ],
      "metadata": {
        "colab": {
          "base_uri": "https://localhost:8080/"
        },
        "id": "TRf-QNFAIGoC",
        "outputId": "8a2dac22-c668-43d4-b8d5-217a459cf6d7"
      },
      "execution_count": 17,
      "outputs": [
        {
          "output_type": "stream",
          "name": "stdout",
          "text": [
            "Hello ,I am Suman.\n",
            "I am learning python now.\n",
            "I also want to learn basics of DevOps.\n",
            "I HAVE COMPLETED GRADUATION.\n"
          ]
        }
      ]
    },
    {
      "cell_type": "code",
      "source": [
        "lines = [\"Apple\", \"Mango\", \"Lichi\"]\n",
        "with open('list_file.txt', 'w') as file:\n",
        "    for item in lines:\n",
        "        file.write(item + '\\n')\n"
      ],
      "metadata": {
        "id": "M0go5T3zINrM"
      },
      "execution_count": 5,
      "outputs": []
    },
    {
      "cell_type": "code",
      "source": [
        "with open('list_file.txt', 'r') as file:\n",
        "    lines_list = file.readlines()\n",
        "    lines_list = [line.strip() for line in lines_list]\n",
        "    print(lines_list)\n"
      ],
      "metadata": {
        "colab": {
          "base_uri": "https://localhost:8080/"
        },
        "id": "VMxflbY3ISYR",
        "outputId": "307eb16d-eb16-4cd3-ecea-1ae688b5c925"
      },
      "execution_count": 6,
      "outputs": [
        {
          "output_type": "stream",
          "name": "stdout",
          "text": [
            "['First item', 'Second item', 'Third item']\n"
          ]
        }
      ]
    },
    {
      "cell_type": "code",
      "source": [
        "with open('file.txt', 'r') as file:\n",
        "    content = file.read()\n",
        "    words = content.split()\n",
        "    word_count = len(words)\n",
        "    print(f\"Total number of words: {word_count}\")\n"
      ],
      "metadata": {
        "colab": {
          "base_uri": "https://localhost:8080/"
        },
        "id": "00Mcaw43IdlC",
        "outputId": "94eadaae-e5b5-456f-93cc-aeb08a331251"
      },
      "execution_count": 18,
      "outputs": [
        {
          "output_type": "stream",
          "name": "stdout",
          "text": [
            "Total number of words: 21\n"
          ]
        }
      ]
    },
    {
      "cell_type": "code",
      "source": [
        "with open('file.txt', 'r') as file:\n",
        "    content = file.read()\n",
        "with open('copy_example.txt', 'w') as file:\n",
        "    file.write(content)\n"
      ],
      "metadata": {
        "id": "FtUdpOpGIgBo"
      },
      "execution_count": 20,
      "outputs": []
    },
    {
      "cell_type": "code",
      "source": [
        "import os\n",
        "if os.path.exists('file.txt'):\n",
        "    with open('file.txt', 'r') as file:\n",
        "        content = file.read()\n",
        "        print(content)\n",
        "else:\n",
        "    print(\"File does not exist.\")\n"
      ],
      "metadata": {
        "colab": {
          "base_uri": "https://localhost:8080/"
        },
        "id": "NliAG0BDImwV",
        "outputId": "bcb84d88-84ab-4b64-8304-6373e56a7b25"
      },
      "execution_count": 21,
      "outputs": [
        {
          "output_type": "stream",
          "name": "stdout",
          "text": [
            "Hello ,I am Suman.\n",
            "I am learning python now.\n",
            "I also want to learn basics of DevOps.\n",
            "I HAVE COMPLETED GRADUATION.\n",
            "\n"
          ]
        }
      ]
    },
    {
      "cell_type": "code",
      "source": [
        "import os\n",
        "if os.path.exists('file.txt'):\n",
        "    os.remove('file.txt')\n",
        "    print(\"File deleted.\")\n",
        "else:\n",
        "    print(\"File does not exist.\")\n"
      ],
      "metadata": {
        "colab": {
          "base_uri": "https://localhost:8080/"
        },
        "id": "p08lNnTwIuP7",
        "outputId": "65ae6baa-61d2-46ca-bb7b-b06a87940a0c"
      },
      "execution_count": 22,
      "outputs": [
        {
          "output_type": "stream",
          "name": "stdout",
          "text": [
            "File deleted.\n"
          ]
        }
      ]
    },
    {
      "cell_type": "code",
      "source": [
        "import os\n",
        "if os.path.exists('example.txt'):\n",
        "    os.remove('example.txt')\n",
        "    print(\"File deleted.\")\n",
        "else:\n",
        "    print(\"File does not exist.\")\n"
      ],
      "metadata": {
        "colab": {
          "base_uri": "https://localhost:8080/"
        },
        "id": "L1Unhe1SI1vA",
        "outputId": "3343418a-0ab7-4734-e107-cd2bd7309c80"
      },
      "execution_count": 23,
      "outputs": [
        {
          "output_type": "stream",
          "name": "stdout",
          "text": [
            "File does not exist.\n"
          ]
        }
      ]
    }
  ]
}